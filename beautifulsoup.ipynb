{
    "nbformat_minor": 1, 
    "cells": [
        {
            "source": "# How to use Beautiful soup to scrape the table from website\n", 
            "cell_type": "markdown", 
            "metadata": {
                "collapsed": true
            }
        }, 
        {
            "source": "This notebook will show you how to scrape postal codes of Canada from the wikipedia page as follow.  \nhttps://en.wikipedia.org/wiki/List_of_postal_codes_of_Canada:_M", 
            "cell_type": "markdown", 
            "metadata": {}
        }, 
        {
            "source": "### Step 1. Install necessary library", 
            "cell_type": "markdown", 
            "metadata": {}
        }, 
        {
            "execution_count": 1, 
            "cell_type": "code", 
            "metadata": {}, 
            "outputs": [
                {
                    "output_type": "stream", 
                    "name": "stdout", 
                    "text": "libraries installed\n"
                }
            ], 
            "source": "import pandas as pd\nimport numpy as np\nimport matplotlib.pyplot as plt\nfrom bs4 import BeautifulSoup as bs\n\nfrom lxml import etree\nimport requests\nprint(\"libraries installed\")"
        }, 
        {
            "source": "### Step 2. Scrape the html text", 
            "cell_type": "markdown", 
            "metadata": {}
        }, 
        {
            "execution_count": 28, 
            "cell_type": "code", 
            "metadata": {}, 
            "outputs": [], 
            "source": "url = requests.get(\"https://en.wikipedia.org/wiki/List_of_postal_codes_of_Canada:_M\").text # get the html text by requests\nsoup = bs(url,'lxml') # transform html text into beatiful soup object\n"
        }, 
        {
            "source": "### Step 3. Match the target table in html text", 
            "cell_type": "markdown", 
            "metadata": {}
        }, 
        {
            "execution_count": 29, 
            "cell_type": "code", 
            "metadata": {}, 
            "outputs": [], 
            "source": "match = soup.table  # Note that \".table\" will show the first table in the html text.  In this case, it is our target table.\n# pinrt(match)"
        }, 
        {
            "execution_count": 30, 
            "cell_type": "code", 
            "metadata": {}, 
            "outputs": [
                {
                    "output_type": "stream", 
                    "name": "stdout", 
                    "text": "There are 1 tables in this url \n"
                }
            ], 
            "source": "table =soup.find_all('table', class_=\"wikitable sortable\")  # find all tables in the html which class is \"wikitable sortable\", it will return a list\nprint('There are {} tables in this url '.format(len(table))) # Use len() to count numbers of table in this list, In this case, only return one table\n\n# you can use \".find\" to find the atrribute of your target, in this case is table, and class that it is.\n# class is a python function. so to make a difference, we have to add underscore affter \"class\"  "
        }, 
        {
            "source": "### Step 4. Retrieve the data and save as pandas dataframe (Raw Data of Table)", 
            "cell_type": "markdown", 
            "metadata": {}
        }, 
        {
            "execution_count": 31, 
            "cell_type": "code", 
            "metadata": {}, 
            "outputs": [
                {
                    "output_type": "stream", 
                    "name": "stdout", 
                    "text": "<tr>\n<td>M1A</td>\n<td>Not assigned</td>\n<td>Not assigned\n</td></tr>\nThis is the first row of data : ['M1A', 'Not assigned', 'Not assigned']\n"
                }
            ], 
            "source": "# little test for retrieve the table data \n    \nsoup_cont = table[0].find_all('tr') # soup_cont = soup contents. Use \"tr\" to cut data \n\nprint(soup_cont[1]) # This is the first data of the table \nclean = soup_cont[1].find_all('td') # use \"td\" to get the data string\n\nPostalcode = clean[0].text.strip(\"\\n\")   # use \".text\" to clean the html code and strip() to remove \"\\n\"\nBorough = clean[1].text.strip(\"\\n\")\nNeighborhood = clean[2].text.strip(\"\\n\")\n\nprint('This is the first row of data :',[Postalcode,Borough,Neighborhood])\n\n"
        }, 
        {
            "execution_count": 32, 
            "cell_type": "code", 
            "metadata": {}, 
            "outputs": [
                {
                    "execution_count": 32, 
                    "metadata": {}, 
                    "data": {
                        "text/html": "<div>\n<style scoped>\n    .dataframe tbody tr th:only-of-type {\n        vertical-align: middle;\n    }\n\n    .dataframe tbody tr th {\n        vertical-align: top;\n    }\n\n    .dataframe thead th {\n        text-align: right;\n    }\n</style>\n<table border=\"1\" class=\"dataframe\">\n  <thead>\n    <tr style=\"text-align: right;\">\n      <th></th>\n      <th>PostalCode</th>\n      <th>Borough</th>\n      <th>Neighborhood</th>\n    </tr>\n  </thead>\n  <tbody>\n    <tr>\n      <th>0</th>\n      <td>M1A</td>\n      <td>Not assigned</td>\n      <td>Not assigned</td>\n    </tr>\n    <tr>\n      <th>1</th>\n      <td>M2A</td>\n      <td>Not assigned</td>\n      <td>Not assigned</td>\n    </tr>\n    <tr>\n      <th>2</th>\n      <td>M3A</td>\n      <td>North York</td>\n      <td>Parkwoods</td>\n    </tr>\n    <tr>\n      <th>3</th>\n      <td>M4A</td>\n      <td>North York</td>\n      <td>Victoria Village</td>\n    </tr>\n    <tr>\n      <th>4</th>\n      <td>M5A</td>\n      <td>Downtown Toronto</td>\n      <td>Harbourfront</td>\n    </tr>\n  </tbody>\n</table>\n</div>", 
                        "text/plain": "  PostalCode           Borough      Neighborhood\n0        M1A      Not assigned      Not assigned\n1        M2A      Not assigned      Not assigned\n2        M3A        North York         Parkwoods\n3        M4A        North York  Victoria Village\n4        M5A  Downtown Toronto      Harbourfront"
                    }, 
                    "output_type": "execute_result"
                }
            ], 
            "source": "# Create a dictionary to insert the data of table\nd = {'PostalCode':[],'Borough':[],'Neighborhood':[]} \n\n# Use loop to get all of the data\nfor i in range(len(soup_cont)-1):  \n    d['PostalCode'].append(soup_cont[i+1].find_all('td')[0].text.strip(\"\\n\"))\n    d['Borough'].append(soup_cont[i+1].find_all('td')[1].text.strip(\"\\n\"))\n    d['Neighborhood'].append(soup_cont[i+1].find_all('td')[2].text.strip(\"\\n\"))\n\n# Transform the python dictionary to pandas dataframe\ntarget_table = pd.DataFrame(data=d) \n\n# Exchange the columns location to meet the requirement\ncols = ['PostalCode','Borough','Neighborhood']\ntarget_table = target_table.loc[:,cols]\n\n# This is unclear row data\ntarget_table.head()\n"
        }, 
        {
            "source": "### Step 5. Clean the raw data to meet the requirement", 
            "cell_type": "markdown", 
            "metadata": {}
        }, 
        {
            "source": "- Drop all the rows for those area that is **not assigned** a **Borough**", 
            "cell_type": "markdown", 
            "metadata": {}
        }, 
        {
            "execution_count": 74, 
            "cell_type": "code", 
            "metadata": {}, 
            "outputs": [
                {
                    "execution_count": 74, 
                    "metadata": {}, 
                    "data": {
                        "text/html": "<div>\n<style scoped>\n    .dataframe tbody tr th:only-of-type {\n        vertical-align: middle;\n    }\n\n    .dataframe tbody tr th {\n        vertical-align: top;\n    }\n\n    .dataframe thead th {\n        text-align: right;\n    }\n</style>\n<table border=\"1\" class=\"dataframe\">\n  <thead>\n    <tr style=\"text-align: right;\">\n      <th></th>\n      <th>PostalCode</th>\n      <th>Borough</th>\n      <th>Neighborhood</th>\n    </tr>\n  </thead>\n  <tbody>\n    <tr>\n      <th>2</th>\n      <td>M3A</td>\n      <td>North York</td>\n      <td>Parkwoods</td>\n    </tr>\n    <tr>\n      <th>3</th>\n      <td>M4A</td>\n      <td>North York</td>\n      <td>Victoria Village</td>\n    </tr>\n    <tr>\n      <th>4</th>\n      <td>M5A</td>\n      <td>Downtown Toronto</td>\n      <td>Harbourfront</td>\n    </tr>\n    <tr>\n      <th>5</th>\n      <td>M5A</td>\n      <td>Downtown Toronto</td>\n      <td>Regent Park</td>\n    </tr>\n    <tr>\n      <th>6</th>\n      <td>M6A</td>\n      <td>North York</td>\n      <td>Lawrence Heights</td>\n    </tr>\n  </tbody>\n</table>\n</div>", 
                        "text/plain": "  PostalCode           Borough      Neighborhood\n2        M3A        North York         Parkwoods\n3        M4A        North York  Victoria Village\n4        M5A  Downtown Toronto      Harbourfront\n5        M5A  Downtown Toronto       Regent Park\n6        M6A        North York  Lawrence Heights"
                    }, 
                    "output_type": "execute_result"
                }
            ], 
            "source": "clean_df = target_table[target_table.Borough != 'Not assigned']\nclean_df.head()"
        }, 
        {
            "source": "- Assign **Borough** to **Neighborhood** for those area that is **not assigned** a **Neighborhood**", 
            "cell_type": "markdown", 
            "metadata": {}
        }, 
        {
            "execution_count": 75, 
            "cell_type": "code", 
            "metadata": {}, 
            "outputs": [
                {
                    "execution_count": 75, 
                    "metadata": {}, 
                    "data": {
                        "text/html": "<div>\n<style scoped>\n    .dataframe tbody tr th:only-of-type {\n        vertical-align: middle;\n    }\n\n    .dataframe tbody tr th {\n        vertical-align: top;\n    }\n\n    .dataframe thead th {\n        text-align: right;\n    }\n</style>\n<table border=\"1\" class=\"dataframe\">\n  <thead>\n    <tr style=\"text-align: right;\">\n      <th></th>\n      <th>PostalCode</th>\n      <th>Borough</th>\n      <th>Neighborhood</th>\n    </tr>\n  </thead>\n  <tbody>\n    <tr>\n      <th>8</th>\n      <td>M7A</td>\n      <td>Queen's Park</td>\n      <td>Not assigned</td>\n    </tr>\n  </tbody>\n</table>\n</div>", 
                        "text/plain": "  PostalCode       Borough  Neighborhood\n8        M7A  Queen's Park  Not assigned"
                    }, 
                    "output_type": "execute_result"
                }
            ], 
            "source": "# Find that area with \"Not assigned\" Neiborhood\nclean_df.loc[clean_df.Neighborhood == 'Not assigned']\n"
        }, 
        {
            "execution_count": 76, 
            "cell_type": "code", 
            "metadata": {}, 
            "outputs": [
                {
                    "output_type": "stream", 
                    "name": "stderr", 
                    "text": "/opt/conda/envs/DSX-Python35/lib/python3.5/site-packages/pandas/core/indexing.py:194: SettingWithCopyWarning: \nA value is trying to be set on a copy of a slice from a DataFrame\n\nSee the caveats in the documentation: http://pandas.pydata.org/pandas-docs/stable/indexing.html#indexing-view-versus-copy\n  self._setitem_with_indexer(indexer, value)\n/opt/conda/envs/DSX-Python35/lib/python3.5/site-packages/ipykernel/__main__.py:3: SettingWithCopyWarning: \nA value is trying to be set on a copy of a slice from a DataFrame\n\nSee the caveats in the documentation: http://pandas.pydata.org/pandas-docs/stable/indexing.html#indexing-view-versus-copy\n  app.launch_new_instance()\n"
                }, 
                {
                    "execution_count": 76, 
                    "metadata": {}, 
                    "data": {
                        "text/html": "<div>\n<style scoped>\n    .dataframe tbody tr th:only-of-type {\n        vertical-align: middle;\n    }\n\n    .dataframe tbody tr th {\n        vertical-align: top;\n    }\n\n    .dataframe thead th {\n        text-align: right;\n    }\n</style>\n<table border=\"1\" class=\"dataframe\">\n  <thead>\n    <tr style=\"text-align: right;\">\n      <th></th>\n      <th>PostalCode</th>\n      <th>Borough</th>\n      <th>Neighborhood</th>\n    </tr>\n  </thead>\n  <tbody>\n    <tr>\n      <th>2</th>\n      <td>M3A</td>\n      <td>North York</td>\n      <td>Parkwoods</td>\n    </tr>\n    <tr>\n      <th>3</th>\n      <td>M4A</td>\n      <td>North York</td>\n      <td>Victoria Village</td>\n    </tr>\n    <tr>\n      <th>4</th>\n      <td>M5A</td>\n      <td>Downtown Toronto</td>\n      <td>Harbourfront</td>\n    </tr>\n    <tr>\n      <th>5</th>\n      <td>M5A</td>\n      <td>Downtown Toronto</td>\n      <td>Regent Park</td>\n    </tr>\n    <tr>\n      <th>6</th>\n      <td>M6A</td>\n      <td>North York</td>\n      <td>Lawrence Heights</td>\n    </tr>\n    <tr>\n      <th>7</th>\n      <td>M6A</td>\n      <td>North York</td>\n      <td>Lawrence Manor</td>\n    </tr>\n    <tr>\n      <th>8</th>\n      <td>M7A</td>\n      <td>Queen's Park</td>\n      <td>Queen's Park</td>\n    </tr>\n    <tr>\n      <th>10</th>\n      <td>M9A</td>\n      <td>Etobicoke</td>\n      <td>Islington Avenue</td>\n    </tr>\n    <tr>\n      <th>11</th>\n      <td>M1B</td>\n      <td>Scarborough</td>\n      <td>Rouge</td>\n    </tr>\n    <tr>\n      <th>12</th>\n      <td>M1B</td>\n      <td>Scarborough</td>\n      <td>Malvern</td>\n    </tr>\n  </tbody>\n</table>\n</div>", 
                        "text/plain": "   PostalCode           Borough      Neighborhood\n2         M3A        North York         Parkwoods\n3         M4A        North York  Victoria Village\n4         M5A  Downtown Toronto      Harbourfront\n5         M5A  Downtown Toronto       Regent Park\n6         M6A        North York  Lawrence Heights\n7         M6A        North York    Lawrence Manor\n8         M7A      Queen's Park      Queen's Park\n10        M9A         Etobicoke  Islington Avenue\n11        M1B       Scarborough             Rouge\n12        M1B       Scarborough           Malvern"
                    }, 
                    "output_type": "execute_result"
                }
            ], 
            "source": "# Replace Neighborhood with its Borough\nclean_df[clean_df.Neighborhood == 'Not assigned'].index[0] #\u3000Find target index\nclean_df.loc[clean_df[clean_df.Neighborhood == 'Not assigned'].index[0],'Neighborhood'] = 'Queen\\'s Park'\nclean_df.head(10)"
        }, 
        {
            "source": "### Step 6. Group the data based on its postalcode", 
            "cell_type": "markdown", 
            "metadata": {}
        }, 
        {
            "execution_count": 107, 
            "cell_type": "code", 
            "metadata": {}, 
            "outputs": [
                {
                    "execution_count": 107, 
                    "metadata": {}, 
                    "data": {
                        "text/html": "<div>\n<style scoped>\n    .dataframe tbody tr th:only-of-type {\n        vertical-align: middle;\n    }\n\n    .dataframe tbody tr th {\n        vertical-align: top;\n    }\n\n    .dataframe thead th {\n        text-align: right;\n    }\n</style>\n<table border=\"1\" class=\"dataframe\">\n  <thead>\n    <tr style=\"text-align: right;\">\n      <th></th>\n      <th>PostalCode</th>\n      <th>Borough</th>\n      <th>Neighborhood</th>\n    </tr>\n  </thead>\n  <tbody>\n    <tr>\n      <th>0</th>\n      <td>M1B</td>\n      <td>Scarborough</td>\n      <td>[Rouge, Malvern]</td>\n    </tr>\n    <tr>\n      <th>1</th>\n      <td>M1C</td>\n      <td>Scarborough</td>\n      <td>[Highland Creek, Rouge Hill, Port Union]</td>\n    </tr>\n    <tr>\n      <th>2</th>\n      <td>M1E</td>\n      <td>Scarborough</td>\n      <td>[Guildwood, Morningside, West Hill]</td>\n    </tr>\n    <tr>\n      <th>3</th>\n      <td>M1G</td>\n      <td>Scarborough</td>\n      <td>[Woburn]</td>\n    </tr>\n    <tr>\n      <th>4</th>\n      <td>M1H</td>\n      <td>Scarborough</td>\n      <td>[Cedarbrae]</td>\n    </tr>\n    <tr>\n      <th>5</th>\n      <td>M1J</td>\n      <td>Scarborough</td>\n      <td>[Scarborough Village]</td>\n    </tr>\n    <tr>\n      <th>6</th>\n      <td>M1K</td>\n      <td>Scarborough</td>\n      <td>[East Birchmount Park, Ionview, Kennedy Park]</td>\n    </tr>\n    <tr>\n      <th>7</th>\n      <td>M1L</td>\n      <td>Scarborough</td>\n      <td>[Clairlea, Golden Mile, Oakridge]</td>\n    </tr>\n    <tr>\n      <th>8</th>\n      <td>M1M</td>\n      <td>Scarborough</td>\n      <td>[Cliffcrest, Cliffside, Scarborough Village West]</td>\n    </tr>\n    <tr>\n      <th>9</th>\n      <td>M1N</td>\n      <td>Scarborough</td>\n      <td>[Birch Cliff, Cliffside West]</td>\n    </tr>\n    <tr>\n      <th>10</th>\n      <td>M1P</td>\n      <td>Scarborough</td>\n      <td>[Dorset Park, Scarborough Town Centre, Wexford...</td>\n    </tr>\n    <tr>\n      <th>11</th>\n      <td>M1R</td>\n      <td>Scarborough</td>\n      <td>[Maryvale, Wexford]</td>\n    </tr>\n  </tbody>\n</table>\n</div>", 
                        "text/plain": "   PostalCode      Borough                                       Neighborhood\n0         M1B  Scarborough                                   [Rouge, Malvern]\n1         M1C  Scarborough           [Highland Creek, Rouge Hill, Port Union]\n2         M1E  Scarborough                [Guildwood, Morningside, West Hill]\n3         M1G  Scarborough                                           [Woburn]\n4         M1H  Scarborough                                        [Cedarbrae]\n5         M1J  Scarborough                              [Scarborough Village]\n6         M1K  Scarborough      [East Birchmount Park, Ionview, Kennedy Park]\n7         M1L  Scarborough                  [Clairlea, Golden Mile, Oakridge]\n8         M1M  Scarborough  [Cliffcrest, Cliffside, Scarborough Village West]\n9         M1N  Scarborough                      [Birch Cliff, Cliffside West]\n10        M1P  Scarborough  [Dorset Park, Scarborough Town Centre, Wexford...\n11        M1R  Scarborough                                [Maryvale, Wexford]"
                    }, 
                    "output_type": "execute_result"
                }
            ], 
            "source": "data = clean_df\ngroup_data = clean_df.groupby(['PostalCode','Borough'])['Neighborhood'].apply(lambda x: \"[%s]\" % ', '.join(x)) # use \".groupby\" and \".apply\" method to save the group data \ngroup_data.reset_index().head(12)  # This is an important process to flatten the tuple."
        }, 
        {
            "execution_count": 82, 
            "cell_type": "code", 
            "metadata": {}, 
            "outputs": [
                {
                    "execution_count": 82, 
                    "metadata": {}, 
                    "data": {
                        "text/plain": "103"
                    }, 
                    "output_type": "execute_result"
                }
            ], 
            "source": ""
        }, 
        {
            "execution_count": 100, 
            "cell_type": "code", 
            "metadata": {}, 
            "outputs": [
                {
                    "execution_count": 100, 
                    "metadata": {}, 
                    "data": {
                        "text/plain": "Borough         [Not assigned, Not assigned, North York, North...\nNeighborhood    [Not assigned, Not assigned, Parkwoods, Victor...\nPostalCode      [M1A, M2A, M3A, M4A, M5A, M5A, M6A, M6A, M7A, ...\ndtype: object"
                    }, 
                    "output_type": "execute_result"
                }
            ], 
            "source": "df = pd.Series(d)\n\ndef f(x):\n     return Series(dict(A = x['PostalCode'].sum(), \n                        B = x['Borough'].sum(), \n                        C = \"{%s}\" % ', '.join(x['Neighborhood'])))\n\ndf.\n"
        }, 
        {
            "execution_count": 51, 
            "cell_type": "code", 
            "metadata": {}, 
            "outputs": [
                {
                    "execution_count": 51, 
                    "metadata": {}, 
                    "data": {
                        "text/plain": "0"
                    }, 
                    "output_type": "execute_result"
                }
            ], 
            "source": "import pandas as pd\nimport numpy as np\nimport requests\n\nfrom bs4 import BeautifulSoup\n\n\nsource = requests.get('https://en.wikipedia.org/wiki/List_of_postal_codes_of_Canada:_M').text\n\nsoup = BeautifulSoup(source, 'html5lib')\n\npostal_codes_dict = {} # initialize an empty dictionary to save the data in\nfor table_cell in soup.find_all('td'):\n    try:\n        postal_code = table_cell.p.b.text # get the postal code\n        postal_code_investigate = table_cell.span.text\n        neighborhoods_data = table_cell.span.text # get the rest of the data in the cell\n        borough = neighborhoods_data.split('(')[0] # get the borough in the cell\n        \n        # if the cell is not assigned then ignore it\n        if neighborhoods_data == 'Not assigned':\n            neighborhoods = []\n        # else process the data and add it to the dictionary\n        else:\n            postal_codes_dict[postal_code] = {}\n            \n            try:\n                neighborhoods = neighborhoods_data.split('(')[1]\n            \n                # remove parantheses from neighborhoods string\n                neighborhoods = neighborhoods.replace('(', ' ')\n                neighborhoods = neighborhoods.replace(')', ' ')\n\n                neighborhoods_names = neighborhoods.split('/')\n                neighborhoods_clean = ', '.join([name.strip() for name in neighborhoods_names])\n            except:\n                borough = borough.strip('\\n')\n                neighborhoods_clean = borough\n \n            # add borough and neighborhood to dictionary\n            postal_codes_dict[postal_code]['borough'] = borough\n            postal_codes_dict[postal_code]['neighborhoods'] = neighborhoods_clean\n    except:\n        pass\n    \n# create an empty dataframe\ncolumns = ['PostalCode', 'Borough', 'Neighborhood']\ntoronto_data = pd.DataFrame(columns=columns)\ntoronto_data\n\n# populate dataframe with data from dictionary\nfor ind, postal_code in enumerate(postal_codes_dict):\n    borough = postal_codes_dict[postal_code]['borough']\n    neighborhood = postal_codes_dict[postal_code]['neighborhoods']\n    toronto_data = toronto_data.append({\"PostalCode\": postal_code, \n                                        \"Borough\": borough, \n                                        \"Neighborhood\": neighborhood},\n                                        ignore_index=True)\n\n# print number of rows of dataframe\ntoronto_data.shape[0]"
        }, 
        {
            "execution_count": 95, 
            "cell_type": "code", 
            "metadata": {}, 
            "outputs": [
                {
                    "execution_count": 95, 
                    "metadata": {}, 
                    "data": {
                        "text/plain": "{'Borough': ['Not assigned',\n  'Not assigned',\n  'North York',\n  'North York',\n  'Downtown Toronto',\n  'Downtown Toronto',\n  'North York',\n  'North York',\n  \"Queen's Park\",\n  'Not assigned',\n  'Etobicoke',\n  'Scarborough',\n  'Scarborough',\n  'Not assigned',\n  'North York',\n  'East York',\n  'East York',\n  'Downtown Toronto',\n  'Downtown Toronto',\n  'North York',\n  'Not assigned',\n  'Not assigned',\n  'Etobicoke',\n  'Etobicoke',\n  'Etobicoke',\n  'Etobicoke',\n  'Etobicoke',\n  'Scarborough',\n  'Scarborough',\n  'Scarborough',\n  'Not assigned',\n  'North York',\n  'North York',\n  'East York',\n  'Downtown Toronto',\n  'York',\n  'Not assigned',\n  'Not assigned',\n  'Etobicoke',\n  'Etobicoke',\n  'Etobicoke',\n  'Etobicoke',\n  'Scarborough',\n  'Scarborough',\n  'Scarborough',\n  'Not assigned',\n  'Not assigned',\n  'East Toronto',\n  'Downtown Toronto',\n  'York',\n  'Not assigned',\n  'Not assigned',\n  'Not assigned',\n  'Scarborough',\n  'Not assigned',\n  'Not assigned',\n  'East York',\n  'Downtown Toronto',\n  'Downtown Toronto',\n  'Not assigned',\n  'Not assigned',\n  'Not assigned',\n  'Scarborough',\n  'North York',\n  'North York',\n  'North York',\n  'North York',\n  'East York',\n  'Downtown Toronto',\n  'Downtown Toronto',\n  'Downtown Toronto',\n  'West Toronto',\n  'West Toronto',\n  'Not assigned',\n  'Not assigned',\n  'Not assigned',\n  'Scarborough',\n  'North York',\n  'North York',\n  'North York',\n  'North York',\n  'North York',\n  'East York',\n  'Downtown Toronto',\n  'Downtown Toronto',\n  'Downtown Toronto',\n  'West Toronto',\n  'West Toronto',\n  'Not assigned',\n  'Not assigned',\n  'Not assigned',\n  'Scarborough',\n  'Scarborough',\n  'Scarborough',\n  'North York',\n  'North York',\n  'North York',\n  'East Toronto',\n  'East Toronto',\n  'Downtown Toronto',\n  'Downtown Toronto',\n  'West Toronto',\n  'West Toronto',\n  'West Toronto',\n  'Not assigned',\n  'Not assigned',\n  'Not assigned',\n  'Scarborough',\n  'Scarborough',\n  'Scarborough',\n  'North York',\n  'North York',\n  'North York',\n  'East Toronto',\n  'East Toronto',\n  'Downtown Toronto',\n  'Downtown Toronto',\n  'North York',\n  'North York',\n  'North York',\n  'Not assigned',\n  'Not assigned',\n  'North York',\n  'Scarborough',\n  'Scarborough',\n  'Scarborough',\n  'North York',\n  'North York',\n  'North York',\n  'East Toronto',\n  'North York',\n  'North York',\n  'York',\n  'York',\n  'York',\n  'York',\n  'Not assigned',\n  'Not assigned',\n  'North York',\n  'North York',\n  'Scarborough',\n  'Scarborough',\n  'North York',\n  'North York',\n  'Central Toronto',\n  'Central Toronto',\n  'York',\n  'York',\n  'Not assigned',\n  'Not assigned',\n  'York',\n  'Scarborough',\n  'Scarborough',\n  'Scarborough',\n  'North York',\n  'Not assigned',\n  'Central Toronto',\n  'Central Toronto',\n  'Central Toronto',\n  'West Toronto',\n  'West Toronto',\n  'Not assigned',\n  'Not assigned',\n  'Etobicoke',\n  'Scarborough',\n  'Scarborough',\n  'North York',\n  'Not assigned',\n  'Central Toronto',\n  'Central Toronto',\n  'Central Toronto',\n  'Central Toronto',\n  'West Toronto',\n  'West Toronto',\n  'Mississauga',\n  'Not assigned',\n  'Etobicoke',\n  'Etobicoke',\n  'Etobicoke',\n  'Etobicoke',\n  'Scarborough',\n  'Not assigned',\n  'Not assigned',\n  'Central Toronto',\n  'Downtown Toronto',\n  'Downtown Toronto',\n  'West Toronto',\n  'West Toronto',\n  'Not assigned',\n  'Not assigned',\n  'Not assigned',\n  'Scarborough',\n  'Scarborough',\n  'Scarborough',\n  'Not assigned',\n  'Not assigned',\n  'Central Toronto',\n  'Central Toronto',\n  'Downtown Toronto',\n  'Downtown Toronto',\n  'Downtown Toronto',\n  'Not assigned',\n  'Not assigned',\n  'Not assigned',\n  'Not assigned',\n  'Scarborough',\n  'Scarborough',\n  'Scarborough',\n  'Scarborough',\n  'Not assigned',\n  'Not assigned',\n  'Central Toronto',\n  'Central Toronto',\n  'Central Toronto',\n  'Central Toronto',\n  'Central Toronto',\n  'Downtown Toronto',\n  'Downtown Toronto',\n  'Downtown Toronto',\n  'Downtown Toronto',\n  'Downtown Toronto',\n  'Downtown Toronto',\n  'Downtown Toronto',\n  'Not assigned',\n  'Not assigned',\n  'Etobicoke',\n  'Etobicoke',\n  'Etobicoke',\n  'Etobicoke',\n  'Etobicoke',\n  'Etobicoke',\n  'Etobicoke',\n  'Etobicoke',\n  'Etobicoke',\n  'Etobicoke',\n  'Etobicoke',\n  'Scarborough',\n  'Not assigned',\n  'Not assigned',\n  'Downtown Toronto',\n  'Downtown Toronto',\n  'Not assigned',\n  'Not assigned',\n  'Etobicoke',\n  'Etobicoke',\n  'Etobicoke',\n  'Scarborough',\n  'Not assigned',\n  'Not assigned',\n  'Downtown Toronto',\n  'Downtown Toronto',\n  'Downtown Toronto',\n  'Downtown Toronto',\n  'Not assigned',\n  'Not assigned',\n  'Etobicoke',\n  'Etobicoke',\n  'Etobicoke',\n  'Not assigned',\n  'Not assigned',\n  'Not assigned',\n  'Not assigned',\n  'Downtown Toronto',\n  'Not assigned',\n  'Not assigned',\n  'East Toronto',\n  'Etobicoke',\n  'Etobicoke',\n  'Etobicoke',\n  'Etobicoke',\n  'Etobicoke',\n  'Etobicoke',\n  'Etobicoke',\n  'Etobicoke',\n  'Not assigned',\n  'Not assigned',\n  'Not assigned',\n  'Not assigned',\n  'Not assigned',\n  'Not assigned',\n  'Not assigned',\n  'Not assigned',\n  'Etobicoke',\n  'Etobicoke',\n  'Etobicoke',\n  'Etobicoke',\n  'Etobicoke',\n  'Not assigned'],\n 'Neighborhood': ['Not assigned',\n  'Not assigned',\n  'Parkwoods',\n  'Victoria Village',\n  'Harbourfront',\n  'Regent Park',\n  'Lawrence Heights',\n  'Lawrence Manor',\n  'Not assigned',\n  'Not assigned',\n  'Islington Avenue',\n  'Rouge',\n  'Malvern',\n  'Not assigned',\n  'Don Mills North',\n  'Woodbine Gardens',\n  'Parkview Hill',\n  'Ryerson',\n  'Garden District',\n  'Glencairn',\n  'Not assigned',\n  'Not assigned',\n  'Cloverdale',\n  'Islington',\n  'Martin Grove',\n  'Princess Gardens',\n  'West Deane Park',\n  'Highland Creek',\n  'Rouge Hill',\n  'Port Union',\n  'Not assigned',\n  'Flemingdon Park',\n  'Don Mills South',\n  'Woodbine Heights',\n  'St. James Town',\n  'Humewood-Cedarvale',\n  'Not assigned',\n  'Not assigned',\n  'Bloordale Gardens',\n  'Eringate',\n  'Markland Wood',\n  'Old Burnhamthorpe',\n  'Guildwood',\n  'Morningside',\n  'West Hill',\n  'Not assigned',\n  'Not assigned',\n  'The Beaches',\n  'Berczy Park',\n  'Caledonia-Fairbanks',\n  'Not assigned',\n  'Not assigned',\n  'Not assigned',\n  'Woburn',\n  'Not assigned',\n  'Not assigned',\n  'Leaside',\n  'Central Bay Street',\n  'Christie',\n  'Not assigned',\n  'Not assigned',\n  'Not assigned',\n  'Cedarbrae',\n  'Hillcrest Village',\n  'Bathurst Manor',\n  'Downsview North',\n  'Wilson Heights',\n  'Thorncliffe Park',\n  'Adelaide',\n  'King',\n  'Richmond',\n  'Dovercourt Village',\n  'Dufferin',\n  'Not assigned',\n  'Not assigned',\n  'Not assigned',\n  'Scarborough Village',\n  'Fairview',\n  'Henry Farm',\n  'Oriole',\n  'Northwood Park',\n  'York University',\n  'East Toronto',\n  'Harbourfront East',\n  'Toronto Islands',\n  'Union Station',\n  'Little Portugal',\n  'Trinity',\n  'Not assigned',\n  'Not assigned',\n  'Not assigned',\n  'East Birchmount Park',\n  'Ionview',\n  'Kennedy Park',\n  'Bayview Village',\n  'CFB Toronto',\n  'Downsview East',\n  'The Danforth West',\n  'Riverdale',\n  'Design Exchange',\n  'Toronto Dominion Centre',\n  'Brockton',\n  'Exhibition Place',\n  'Parkdale Village',\n  'Not assigned',\n  'Not assigned',\n  'Not assigned',\n  'Clairlea',\n  'Golden Mile',\n  'Oakridge',\n  'Silver Hills',\n  'York Mills',\n  'Downsview West',\n  'The Beaches West',\n  'India Bazaar',\n  'Commerce Court',\n  'Victoria Hotel',\n  'Downsview',\n  'North Park',\n  'Upwood Park',\n  'Not assigned',\n  'Not assigned',\n  'Humber Summit',\n  'Cliffcrest',\n  'Cliffside',\n  'Scarborough Village West',\n  'Newtonbrook',\n  'Willowdale',\n  'Downsview Central',\n  'Studio District',\n  'Bedford Park',\n  'Lawrence Manor East',\n  'Del Ray',\n  'Keelesdale',\n  'Mount Dennis',\n  'Silverthorn',\n  'Not assigned',\n  'Not assigned',\n  'Emery',\n  'Humberlea',\n  'Birch Cliff',\n  'Cliffside West',\n  'Willowdale South',\n  'Downsview Northwest',\n  'Lawrence Park',\n  'Roselawn',\n  'The Junction North',\n  'Runnymede',\n  'Not assigned',\n  'Not assigned',\n  'Weston',\n  'Dorset Park',\n  'Scarborough Town Centre',\n  'Wexford Heights',\n  'York Mills West',\n  'Not assigned',\n  'Davisville North',\n  'Forest Hill North',\n  'Forest Hill West',\n  'High Park',\n  'The Junction South',\n  'Not assigned',\n  'Not assigned',\n  'Westmount',\n  'Maryvale',\n  'Wexford',\n  'Willowdale West',\n  'Not assigned',\n  'North Toronto West',\n  'The Annex',\n  'North Midtown',\n  'Yorkville',\n  'Parkdale',\n  'Roncesvalles',\n  'Canada Post Gateway Processing Centre',\n  'Not assigned',\n  'Kingsview Village',\n  'Martin Grove Gardens',\n  'Richview Gardens',\n  'St. Phillips',\n  'Agincourt',\n  'Not assigned',\n  'Not assigned',\n  'Davisville',\n  'Harbord',\n  'University of Toronto',\n  'Runnymede',\n  'Swansea',\n  'Not assigned',\n  'Not assigned',\n  'Not assigned',\n  'Clarks Corners',\n  'Sullivan',\n  \"Tam O'Shanter\",\n  'Not assigned',\n  'Not assigned',\n  'Moore Park',\n  'Summerhill East',\n  'Chinatown',\n  'Grange Park',\n  'Kensington Market',\n  'Not assigned',\n  'Not assigned',\n  'Not assigned',\n  'Not assigned',\n  'Agincourt North',\n  \"L'Amoreaux East\",\n  'Milliken',\n  'Steeles East',\n  'Not assigned',\n  'Not assigned',\n  'Deer Park',\n  'Forest Hill SE',\n  'Rathnelly',\n  'South Hill',\n  'Summerhill West',\n  'CN Tower',\n  'Bathurst Quay',\n  'Island airport',\n  'Harbourfront West',\n  'King and Spadina',\n  'Railway Lands',\n  'South Niagara',\n  'Not assigned',\n  'Not assigned',\n  'Humber Bay Shores',\n  'Mimico South',\n  'New Toronto',\n  'Albion Gardens',\n  'Beaumond Heights',\n  'Humbergate',\n  'Jamestown',\n  'Mount Olive',\n  'Silverstone',\n  'South Steeles',\n  'Thistletown',\n  \"L'Amoreaux West\",\n  'Not assigned',\n  'Not assigned',\n  'Rosedale',\n  'Stn A PO Boxes 25 The Esplanade',\n  'Not assigned',\n  'Not assigned',\n  'Alderwood',\n  'Long Branch',\n  'Northwest',\n  'Upper Rouge',\n  'Not assigned',\n  'Not assigned',\n  'Cabbagetown',\n  'St. James Town',\n  'First Canadian Place',\n  'Underground city',\n  'Not assigned',\n  'Not assigned',\n  'The Kingsway',\n  'Montgomery Road',\n  'Old Mill North',\n  'Not assigned',\n  'Not assigned',\n  'Not assigned',\n  'Not assigned',\n  'Church and Wellesley',\n  'Not assigned',\n  'Not assigned',\n  'Business Reply Mail Processing Centre 969 Eastern',\n  'Humber Bay',\n  \"King's Mill Park\",\n  'Kingsway Park South East',\n  'Mimico NE',\n  'Old Mill South',\n  'The Queensway East',\n  'Royal York South East',\n  'Sunnylea',\n  'Not assigned',\n  'Not assigned',\n  'Not assigned',\n  'Not assigned',\n  'Not assigned',\n  'Not assigned',\n  'Not assigned',\n  'Not assigned',\n  'Kingsway Park South West',\n  'Mimico NW',\n  'The Queensway West',\n  'Royal York South West',\n  'South of Bloor',\n  'Not assigned'],\n 'PostalCode': ['M1A',\n  'M2A',\n  'M3A',\n  'M4A',\n  'M5A',\n  'M5A',\n  'M6A',\n  'M6A',\n  'M7A',\n  'M8A',\n  'M9A',\n  'M1B',\n  'M1B',\n  'M2B',\n  'M3B',\n  'M4B',\n  'M4B',\n  'M5B',\n  'M5B',\n  'M6B',\n  'M7B',\n  'M8B',\n  'M9B',\n  'M9B',\n  'M9B',\n  'M9B',\n  'M9B',\n  'M1C',\n  'M1C',\n  'M1C',\n  'M2C',\n  'M3C',\n  'M3C',\n  'M4C',\n  'M5C',\n  'M6C',\n  'M7C',\n  'M8C',\n  'M9C',\n  'M9C',\n  'M9C',\n  'M9C',\n  'M1E',\n  'M1E',\n  'M1E',\n  'M2E',\n  'M3E',\n  'M4E',\n  'M5E',\n  'M6E',\n  'M7E',\n  'M8E',\n  'M9E',\n  'M1G',\n  'M2G',\n  'M3G',\n  'M4G',\n  'M5G',\n  'M6G',\n  'M7G',\n  'M8G',\n  'M9G',\n  'M1H',\n  'M2H',\n  'M3H',\n  'M3H',\n  'M3H',\n  'M4H',\n  'M5H',\n  'M5H',\n  'M5H',\n  'M6H',\n  'M6H',\n  'M7H',\n  'M8H',\n  'M9H',\n  'M1J',\n  'M2J',\n  'M2J',\n  'M2J',\n  'M3J',\n  'M3J',\n  'M4J',\n  'M5J',\n  'M5J',\n  'M5J',\n  'M6J',\n  'M6J',\n  'M7J',\n  'M8J',\n  'M9J',\n  'M1K',\n  'M1K',\n  'M1K',\n  'M2K',\n  'M3K',\n  'M3K',\n  'M4K',\n  'M4K',\n  'M5K',\n  'M5K',\n  'M6K',\n  'M6K',\n  'M6K',\n  'M7K',\n  'M8K',\n  'M9K',\n  'M1L',\n  'M1L',\n  'M1L',\n  'M2L',\n  'M2L',\n  'M3L',\n  'M4L',\n  'M4L',\n  'M5L',\n  'M5L',\n  'M6L',\n  'M6L',\n  'M6L',\n  'M7L',\n  'M8L',\n  'M9L',\n  'M1M',\n  'M1M',\n  'M1M',\n  'M2M',\n  'M2M',\n  'M3M',\n  'M4M',\n  'M5M',\n  'M5M',\n  'M6M',\n  'M6M',\n  'M6M',\n  'M6M',\n  'M7M',\n  'M8M',\n  'M9M',\n  'M9M',\n  'M1N',\n  'M1N',\n  'M2N',\n  'M3N',\n  'M4N',\n  'M5N',\n  'M6N',\n  'M6N',\n  'M7N',\n  'M8N',\n  'M9N',\n  'M1P',\n  'M1P',\n  'M1P',\n  'M2P',\n  'M3P',\n  'M4P',\n  'M5P',\n  'M5P',\n  'M6P',\n  'M6P',\n  'M7P',\n  'M8P',\n  'M9P',\n  'M1R',\n  'M1R',\n  'M2R',\n  'M3R',\n  'M4R',\n  'M5R',\n  'M5R',\n  'M5R',\n  'M6R',\n  'M6R',\n  'M7R',\n  'M8R',\n  'M9R',\n  'M9R',\n  'M9R',\n  'M9R',\n  'M1S',\n  'M2S',\n  'M3S',\n  'M4S',\n  'M5S',\n  'M5S',\n  'M6S',\n  'M6S',\n  'M7S',\n  'M8S',\n  'M9S',\n  'M1T',\n  'M1T',\n  'M1T',\n  'M2T',\n  'M3T',\n  'M4T',\n  'M4T',\n  'M5T',\n  'M5T',\n  'M5T',\n  'M6T',\n  'M7T',\n  'M8T',\n  'M9T',\n  'M1V',\n  'M1V',\n  'M1V',\n  'M1V',\n  'M2V',\n  'M3V',\n  'M4V',\n  'M4V',\n  'M4V',\n  'M4V',\n  'M4V',\n  'M5V',\n  'M5V',\n  'M5V',\n  'M5V',\n  'M5V',\n  'M5V',\n  'M5V',\n  'M6V',\n  'M7V',\n  'M8V',\n  'M8V',\n  'M8V',\n  'M9V',\n  'M9V',\n  'M9V',\n  'M9V',\n  'M9V',\n  'M9V',\n  'M9V',\n  'M9V',\n  'M1W',\n  'M2W',\n  'M3W',\n  'M4W',\n  'M5W',\n  'M6W',\n  'M7W',\n  'M8W',\n  'M8W',\n  'M9W',\n  'M1X',\n  'M2X',\n  'M3X',\n  'M4X',\n  'M4X',\n  'M5X',\n  'M5X',\n  'M6X',\n  'M7X',\n  'M8X',\n  'M8X',\n  'M8X',\n  'M9X',\n  'M1Y',\n  'M2Y',\n  'M3Y',\n  'M4Y',\n  'M5Y',\n  'M6Y',\n  'M7Y',\n  'M8Y',\n  'M8Y',\n  'M8Y',\n  'M8Y',\n  'M8Y',\n  'M8Y',\n  'M8Y',\n  'M8Y',\n  'M9Y',\n  'M1Z',\n  'M2Z',\n  'M3Z',\n  'M4Z',\n  'M5Z',\n  'M6Z',\n  'M7Z',\n  'M8Z',\n  'M8Z',\n  'M8Z',\n  'M8Z',\n  'M8Z',\n  'M9Z']}"
                    }, 
                    "output_type": "execute_result"
                }
            ], 
            "source": "d"
        }, 
        {
            "execution_count": null, 
            "cell_type": "code", 
            "metadata": {}, 
            "outputs": [], 
            "source": ""
        }
    ], 
    "metadata": {
        "kernelspec": {
            "display_name": "Python 3.5", 
            "name": "python3", 
            "language": "python"
        }, 
        "language_info": {
            "mimetype": "text/x-python", 
            "nbconvert_exporter": "python", 
            "version": "3.5.5", 
            "name": "python", 
            "file_extension": ".py", 
            "pygments_lexer": "ipython3", 
            "codemirror_mode": {
                "version": 3, 
                "name": "ipython"
            }
        }
    }, 
    "nbformat": 4
}