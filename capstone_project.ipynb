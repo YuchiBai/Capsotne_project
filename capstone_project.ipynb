{
    "nbformat_minor": 1, 
    "cells": [
        {
            "source": "# Capsotne Project for Applied Data Science\n\nThis is a capstone project to analize location data by using FOURSQUARE, and all the skills learned from IBM data science courses.", 
            "cell_type": "markdown", 
            "metadata": {
                "collapsed": true
            }
        }, 
        {
            "source": "# WEEK 1\n\n## 1. A description of the problem and a discussion of the background.", 
            "cell_type": "markdown", 
            "metadata": {}
        }, 
        {
            "source": "**Background:**   \nA customer want to expand his/her resturant into the world. And he/she wants to expand to the city with the highest diversity.  \nHere are three options of the city: **Tapei, NewYork and Tokyo.**   \nSo I will compare the neighborhoods of these three cities and determine how similar or dissimilar they are.", 
            "cell_type": "markdown", 
            "metadata": {}
        }, 
        {
            "source": "## 2. A description of the data and how it will be used to solve the problem. ", 
            "cell_type": "markdown", 
            "metadata": {}
        }, 
        {
            "source": "**Data sourse:**  \n- Use \"geocoder\" to get the center longitude and latitude of these city.\n- Create a table saving the data of longitude and latitude which evenly sampling from each city center. \n- Use \"FOURSQUARE\" to get the resturant information in each sampling point. \n**Analysis method:**\n- Use \"Kmeans\" to segment and cluster these sampling point in each city.\n- Use \"Elbow method\" to find the optimal K-value\n- Normalize the data in each city\n- Calculate\n\n\n", 
            "cell_type": "markdown", 
            "metadata": {}
        }, 
        {
            "execution_count": null, 
            "cell_type": "code", 
            "metadata": {}, 
            "outputs": [], 
            "source": ""
        }
    ], 
    "metadata": {
        "kernelspec": {
            "display_name": "Python 3.5", 
            "name": "python3", 
            "language": "python"
        }, 
        "language_info": {
            "mimetype": "text/x-python", 
            "nbconvert_exporter": "python", 
            "version": "3.5.5", 
            "name": "python", 
            "file_extension": ".py", 
            "pygments_lexer": "ipython3", 
            "codemirror_mode": {
                "version": 3, 
                "name": "ipython"
            }
        }
    }, 
    "nbformat": 4
}