{
    "nbformat_minor": 1, 
    "cells": [
        {
            "source": "# Capsotne Project for Applied Data Science\n\nThis is a capstone project to analize location data by using FOURSQUARE, and all the skills learned from IBM data science courses.", 
            "cell_type": "markdown", 
            "metadata": {
                "collapsed": true
            }
        }, 
        {
            "source": "# WEEK 1\n\n## 1. A description of the problem and a discussion of the background.", 
            "cell_type": "markdown", 
            "metadata": {}
        }, 
        {
            "source": "**Background:**   \nA customer want to open his/her resturant in Taipei.  \nBecause  he/she wants to sell exotic cuisine, he/she wants to open at the dist with the highest diversity of food culture.   \nSo I will compare the neighborhoods of Taipei city to determine the dict with the highest diversity.", 
            "cell_type": "markdown", 
            "metadata": {}
        }, 
        {
            "source": "## 2. A description of the data and how it will be used to solve the problem. ", 
            "cell_type": "markdown", 
            "metadata": {}
        }, 
        {
            "source": "**Data sourse:**  \n- Use \"BeautifulSoup\" to get the dist_postalcode of Taipei city from https://worldpostalcode.com/taiwan/taipei-city. \n- Use \"geocoder\" to get the longitude and latitude of each dist_postalcode.\n- Create a dictionary saving all the data. \n- Use \"FOURSQUARE\" to get the resturant information in each dist_postalcode.\n- Create a dictionary saving resturant information.\n\n**Analysis method:**\n- Use \"Kmeans\" to segment and cluster these sampling point in each city.\n- Use \"Elbow method\" to find the optimal K-value\n- Normalize the data in each city and Calculate the diversity of each city", 
            "cell_type": "markdown", 
            "metadata": {}
        }, 
        {
            "source": "# WEEK 2", 
            "cell_type": "markdown", 
            "metadata": {}
        }, 
        {
            "source": "## Use \"BeautifulSoup\" to get the dist_postalcode of Taipei city from https://worldpostalcode.com/taiwan/taipei-city.", 
            "cell_type": "markdown", 
            "metadata": {}
        }, 
        {
            "execution_count": 30, 
            "cell_type": "code", 
            "metadata": {}, 
            "outputs": [], 
            "source": "## Setting environment\nimport pandas as pd\nimport numpy as np\nimport matplotlib.pyplot as plt\nfrom pandas.io.json import json_normalize # tranform JSON file into a pandas dataframe\nfrom bs4 import BeautifulSoup as bs\nimport requests\nfrom geopy.geocoders import Nominatim"
        }, 
        {
            "source": "Data is retrived from the website:   \n**WORLD POSTAL CODE**  \nhttps://worldpostalcode.com/taiwan/taipei-city", 
            "cell_type": "markdown", 
            "metadata": {}
        }, 
        {
            "execution_count": 179, 
            "cell_type": "code", 
            "metadata": {}, 
            "outputs": [
                {
                    "execution_count": 179, 
                    "metadata": {}, 
                    "data": {
                        "text/html": "<div>\n<style scoped>\n    .dataframe tbody tr th:only-of-type {\n        vertical-align: middle;\n    }\n\n    .dataframe tbody tr th {\n        vertical-align: top;\n    }\n\n    .dataframe thead th {\n        text-align: right;\n    }\n</style>\n<table border=\"1\" class=\"dataframe\">\n  <thead>\n    <tr style=\"text-align: right;\">\n      <th></th>\n      <th>Beitou District</th>\n      <th>Da'an District</th>\n      <th>Datong District</th>\n      <th>Nangang District</th>\n      <th>Neihu District</th>\n      <th>Shilin District</th>\n      <th>Songshan District</th>\n      <th>Wanhua District</th>\n      <th>Wenshan District</th>\n      <th>Xinyi District</th>\n      <th>Zhongshan District</th>\n    </tr>\n  </thead>\n  <tbody>\n    <tr>\n      <th>0</th>\n      <td>[11201, 11202, 11217, 11218, 11219, 11220, 112...</td>\n      <td>[10601, 10602, 10603, 10607, 10608, 10610, 106...</td>\n      <td>[10341, 10342, 10343, 10344, 10345, 10346, 103...</td>\n      <td>[11501, 11502, 11503, 11510, 11529, 11530, 115...</td>\n      <td>[11444, 11445, 11446, 11447, 11448, 11449, 114...</td>\n      <td>[11101, 11102, 11103, 11114, 11141, 11142, 111...</td>\n      <td>[10502, 10503, 10504, 10506, 10507, 10508, 105...</td>\n      <td>[10801, 10802, 10803, 10807, 10841, 10842, 108...</td>\n      <td>[11601, 11602, 11603, 11604, 11605, 11606, 116...</td>\n      <td>[11001, 11002, 11005, 11006, 11008, 11010, 110...</td>\n      <td>[10402, 10404, 10406, 10407, 10409, 10410, 104...</td>\n    </tr>\n  </tbody>\n</table>\n</div>", 
                        "text/plain": "                                     Beitou District  \\\n0  [11201, 11202, 11217, 11218, 11219, 11220, 112...   \n\n                                      Da'an District  \\\n0  [10601, 10602, 10603, 10607, 10608, 10610, 106...   \n\n                                     Datong District  \\\n0  [10341, 10342, 10343, 10344, 10345, 10346, 103...   \n\n                                    Nangang District  \\\n0  [11501, 11502, 11503, 11510, 11529, 11530, 115...   \n\n                                      Neihu District  \\\n0  [11444, 11445, 11446, 11447, 11448, 11449, 114...   \n\n                                     Shilin District  \\\n0  [11101, 11102, 11103, 11114, 11141, 11142, 111...   \n\n                                   Songshan District  \\\n0  [10502, 10503, 10504, 10506, 10507, 10508, 105...   \n\n                                     Wanhua District  \\\n0  [10801, 10802, 10803, 10807, 10841, 10842, 108...   \n\n                                    Wenshan District  \\\n0  [11601, 11602, 11603, 11604, 11605, 11606, 116...   \n\n                                      Xinyi District  \\\n0  [11001, 11002, 11005, 11006, 11008, 11010, 110...   \n\n                                  Zhongshan District  \n0  [10402, 10404, 10406, 10407, 10409, 10410, 104...  "
                    }, 
                    "output_type": "execute_result"
                }
            ], 
            "source": "url = 'https://worldpostalcode.com/taiwan/taipei-city'\nhtml_text = requests.get(url).text   # get html text\n\ntaipei_soup = bs(html_text,'lxml') # transform the text to beautifulsoup object\n\n\n### Get the list of postalcode and dict name\ntaipei_soup_district = taipei_soup.find_all('div',class_=\"place red\") # Extract District name of taipei_soup and save them in pd.frame as column name.\ntsdl = taipei_soup_district_list = []   # In python, if you read str list, 'i' will be the content of each element \nfor i in taipei_soup_district:\n    taipei_soup_district_list.append(i.text)  # you can derectly use i.text to retrive the de-html code text \n\ntaipei_soup_district_list[0]\ntaipei_postalcode = pd.DataFrame(columns = tsdl)\n\n\ntpl = taipei_postalcode_list = []\nfor i in taipei_soup.find_all('div',class_= 'code'):\n    taipei_postalcode_list.append(i.text.split(' '))\ndel tpl[7]\nfor i in range(len(tpl)) :\n    taipei_postalcode[tsdl[i]] = [tpl[i]]\n    \n#for i in range(len(list1)):\n#    print(len(list1[i]))\n#del list1[7]\n#print('\\n')\n#for i in range(len(list1)):\n#    print(len(list1[i]))\n\ntaipei_postalcode"
        }, 
        {
            "source": "## Use \"geocoder\" to get the longitude and latitude of each dist_postalcode", 
            "cell_type": "markdown", 
            "metadata": {}
        }, 
        {
            "execution_count": null, 
            "cell_type": "code", 
            "metadata": {}, 
            "outputs": [], 
            "source": "geolocator = Nominatim(user_agent=\"capstone_project\") \n\nlocation_Newyork = geolocator.geocode(\"Newyork\")\nprint((location_Newyork.latitude, location_Newyork.longitude))"
        }, 
        {
            "execution_count": null, 
            "cell_type": "code", 
            "metadata": {}, 
            "outputs": [], 
            "source": ""
        }, 
        {
            "execution_count": null, 
            "cell_type": "code", 
            "metadata": {}, 
            "outputs": [], 
            "source": ""
        }, 
        {
            "source": "# Explore Data By FOURSQUARE", 
            "cell_type": "markdown", 
            "metadata": {}
        }, 
        {
            "source": "## Setting environment", 
            "cell_type": "markdown", 
            "metadata": {}
        }, 
        {
            "execution_count": 23, 
            "cell_type": "code", 
            "metadata": {}, 
            "outputs": [
                {
                    "output_type": "stream", 
                    "name": "stdout", 
                    "text": "Your credentails:\nCLIENT_ID: ICBFWD00UVFRVPE4H3PVDBUXPBSZNOVSHFGK3ZODKTN4BKQE\nCLIENT_SECRET:MQPFXLRVCJ5I43LNSGSG0LSNRNKP31ZAJ4LTZLLSRTR2XOUX\n"
                }
            ], 
            "source": "!pip install folium # install folium\nimport folium # map rendering library\n\nCLIENT_ID = 'ICBFWD00UVFRVPE4H3PVDBUXPBSZNOVSHFGK3ZODKTN4BKQE' # your Foursquare ID\nCLIENT_SECRET = 'MQPFXLRVCJ5I43LNSGSG0LSNRNKP31ZAJ4LTZLLSRTR2XOUX' # your Foursquare Secret\nVERSION = '20180605' # Foursquare API version\n\nprint('Your credentails:')\nprint('CLIENT_ID: ' + CLIENT_ID)\nprint('CLIENT_SECRET:' + CLIENT_SECRET)"
        }, 
        {
            "source": "### Example of a request\nradius = 500  \nLIMIT = 30  \nlatitude = canada.loc[0][3]  \nlongitude = canada.loc[0][4]  \nurl = 'https://api.foursquare.com/v2/venues/explore?client_id={}&client_secret={}&ll={},{}&v={}&radius={}&limit={}'.format(CLIENT_ID, CLIENT_SECRET, latitude, longitude, VERSION, radius, LIMIT)  \n  ", 
            "cell_type": "markdown", 
            "metadata": {}
        }, 
        {
            "execution_count": null, 
            "cell_type": "code", 
            "metadata": {}, 
            "outputs": [], 
            "source": ""
        }, 
        {
            "execution_count": null, 
            "cell_type": "code", 
            "metadata": {}, 
            "outputs": [], 
            "source": ""
        }, 
        {
            "execution_count": null, 
            "cell_type": "code", 
            "metadata": {}, 
            "outputs": [], 
            "source": ""
        }, 
        {
            "source": "# getNearbyVenues", 
            "cell_type": "markdown", 
            "metadata": {}
        }, 
        {
            "execution_count": null, 
            "cell_type": "code", 
            "metadata": {}, 
            "outputs": [], 
            "source": "def getNearbyVenues(names, latitudes, longitudes, radius=500):\n    \n    venues_list=[]\n    for name, lat, lng in zip(names, latitudes, longitudes):\n        print(name)\n            \n        # create the API request URL\n        url = 'https://api.foursquare.com/v2/venues/explore?&client_id={}&client_secret={}&v={}&ll={},{}&radius={}&limit={}'.format(\n            CLIENT_ID, \n            CLIENT_SECRET, \n            VERSION, \n            lat, \n            lng, \n            radius, \n            LIMIT)\n            \n        # make the GET request\n        results = requests.get(url).json()[\"response\"]['groups'][0]['items']\n        \n        # return only relevant information for each nearby venue\n        venues_list.append([(\n            name, \n            lat, \n            lng, \n            v['venue']['name'], \n            v['venue']['location']['lat'], \n            v['venue']['location']['lng'],  \n            v['venue']['categories'][0]['name']) for v in results])\n\n    nearby_venues = pd.DataFrame([item for venue_list in venues_list for item in venue_list])\n    nearby_venues.columns = ['Neighborhood', \n                  'Neighborhood Latitude', \n                  'Neighborhood Longitude', \n                  'Venue', \n                  'Venue Latitude', \n                  'Venue Longitude', \n                  'Venue Category']\n    \n    return(nearby_venues)"
        }, 
        {
            "execution_count": null, 
            "cell_type": "code", 
            "metadata": {}, 
            "outputs": [], 
            "source": "canada_venues = getNearbyVenues(names=canada['Neighborhood'],\n                                   latitudes=canada['Latitude'],\n                                   longitudes=canada['Longitude']\n                                  )"
        }, 
        {
            "execution_count": null, 
            "cell_type": "code", 
            "metadata": {}, 
            "outputs": [], 
            "source": ""
        }, 
        {
            "execution_count": null, 
            "cell_type": "code", 
            "metadata": {}, 
            "outputs": [], 
            "source": ""
        }, 
        {
            "execution_count": null, 
            "cell_type": "code", 
            "metadata": {}, 
            "outputs": [], 
            "source": ""
        }
    ], 
    "metadata": {
        "kernelspec": {
            "display_name": "Python 3.5", 
            "name": "python3", 
            "language": "python"
        }, 
        "language_info": {
            "mimetype": "text/x-python", 
            "nbconvert_exporter": "python", 
            "version": "3.5.5", 
            "name": "python", 
            "file_extension": ".py", 
            "pygments_lexer": "ipython3", 
            "codemirror_mode": {
                "version": 3, 
                "name": "ipython"
            }
        }
    }, 
    "nbformat": 4
}